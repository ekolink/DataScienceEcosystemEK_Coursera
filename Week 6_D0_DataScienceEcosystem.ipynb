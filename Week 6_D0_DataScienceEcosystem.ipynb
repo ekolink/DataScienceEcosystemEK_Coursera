{
 "cells": [
  {
   "cell_type": "markdown",
   "id": "e3505c92-a402-4fe4-961f-1ffbd9c07e5b",
   "metadata": {
    "tags": []
   },
   "source": [
    "# Data Science Tools and Ecosystem"
   ]
  },
  {
   "cell_type": "markdown",
   "id": "17a2d833-4b37-47ca-a356-180e22606c78",
   "metadata": {},
   "source": [
    "In this notebook, Data Science Tools and Ecosystem are summarized."
   ]
  },
  {
   "cell_type": "markdown",
   "id": "08c189d8-62c5-454d-9639-600662e7b21c",
   "metadata": {},
   "source": [
    "**Objectives:**\n",
    "- List popular languages for Data Science\n",
    "- List of Data Science Libaries\n",
    "- Example of Open Source Data Science Tools\n",
    "- Example of a multiplication\n",
    "- Example of division"
   ]
  },
  {
   "cell_type": "markdown",
   "id": "aaa15f65-57cb-476e-98ce-556b481394bc",
   "metadata": {},
   "source": [
    "Some of the popular languages that Data Scientists use are:\n",
    "1. Python\n",
    "2. R\n",
    "3. SQL\n",
    "4. Java\n",
    "5. C++\n",
    "6. Julia\n",
    "7. JavaScript\n",
    "8. PHP\n",
    "9. Go\n",
    "10. Ruby\n",
    "11. Visual Basic\n",
    "    "
   ]
  },
  {
   "cell_type": "markdown",
   "id": "88cd9da1-638a-4e3c-ac09-6816bd2a3bfa",
   "metadata": {
    "tags": []
   },
   "source": [
    "Some of the commonly used libraries used by Data Scientists include:\n",
    "\n",
    "###### ***for data science***\n",
    "1. Panda\n",
    "2. NumPy\n",
    "3. SciPy\n",
    "4. Matplotlib\n",
    "\n",
    "###### ***for Artificial Intelligence***\n",
    "5. TensorFlow\n",
    "6. PyTorch\n",
    "7. Keras\n",
    "8. Scikit-learn\n",
    "\n",
    "###### ***for Natural Language Processing***\n",
    "9. Natural Language Toolkit (NLTK)\n"
   ]
  },
  {
   "cell_type": "markdown",
   "id": "79417c91-1c3e-4e53-900f-311ae80cb3a1",
   "metadata": {},
   "source": [
    "|**Data Science Tools**|\n",
    "|-----|\n",
    "|RStudio|\n",
    "|TensorFlow|\n",
    "|Apache Hadoop|"
   ]
  },
  {
   "cell_type": "markdown",
   "id": "2cf5abe1-29f8-4f45-bf27-222d065f7798",
   "metadata": {},
   "source": [
    "### Below are a few examples of evaluating arithmetic expressions in Python"
   ]
  },
  {
   "cell_type": "markdown",
   "id": "a10069f5-a7e7-4d27-a409-923565ead45e",
   "metadata": {},
   "source": [
    "This a simple arithmetic expression to mutiply then add integers"
   ]
  },
  {
   "cell_type": "code",
   "execution_count": 7,
   "id": "94a3b8b2-e4f5-4ae2-9f0e-74b0f75b6d77",
   "metadata": {
    "tags": []
   },
   "outputs": [
    {
     "data": {
      "text/plain": [
       "17"
      ]
     },
     "execution_count": 7,
     "metadata": {},
     "output_type": "execute_result"
    }
   ],
   "source": [
    "(3*4)+5"
   ]
  },
  {
   "cell_type": "markdown",
   "id": "79c3472b-94a2-457c-8961-bc39e7f8bc25",
   "metadata": {},
   "source": [
    "This will convert 200 minutes to hours by diving by 60"
   ]
  },
  {
   "cell_type": "code",
   "execution_count": 8,
   "id": "e48702be-f72e-413f-8edc-3fc4885cc412",
   "metadata": {
    "tags": []
   },
   "outputs": [
    {
     "data": {
      "text/plain": [
       "3.3333333333333335"
      ]
     },
     "execution_count": 8,
     "metadata": {},
     "output_type": "execute_result"
    }
   ],
   "source": [
    "200/60\n"
   ]
  },
  {
   "cell_type": "markdown",
   "id": "5e04711b-9f69-4937-a057-4d22fee1cc63",
   "metadata": {
    "tags": []
   },
   "source": [
    "## Author \n",
    "Evgenios Kotsonis"
   ]
  },
  {
   "cell_type": "code",
   "execution_count": null,
   "id": "f4a56caa-53a4-4cc6-a193-5f89f38e4075",
   "metadata": {},
   "outputs": [],
   "source": []
  }
 ],
 "metadata": {
  "kernelspec": {
   "display_name": "Python 3 (ipykernel)",
   "language": "python",
   "name": "python3"
  },
  "language_info": {
   "codemirror_mode": {
    "name": "ipython",
    "version": 3
   },
   "file_extension": ".py",
   "mimetype": "text/x-python",
   "name": "python",
   "nbconvert_exporter": "python",
   "pygments_lexer": "ipython3",
   "version": "3.11.4"
  }
 },
 "nbformat": 4,
 "nbformat_minor": 5
}
